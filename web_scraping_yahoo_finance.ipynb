{
 "cells": [
  {
   "cell_type": "code",
   "execution_count": 1,
   "id": "01bcf8c4",
   "metadata": {},
   "outputs": [],
   "source": [
    "from bs4 import BeautifulSoup\n",
    "\n",
    "import requests\n",
    "import numpy as np\n",
    "import time\n",
    "from time import sleep\n",
    "import pandas as pd\n",
    "\n",
    "#Selenium\n",
    "from selenium import webdriver\n",
    "from selenium.webdriver.support.ui import WebDriverWait\n",
    "from selenium.webdriver.support import expected_conditions as EC\n",
    "from selenium.webdriver.common.by import By\n",
    "from selenium.webdriver.chrome.service import Service\n",
    "\n",
    "from lxml import html\n",
    "import lxml"
   ]
  },
  {
   "cell_type": "code",
   "execution_count": 2,
   "id": "8bb7a077",
   "metadata": {},
   "outputs": [],
   "source": [
    "def get_html(url):\n",
    "    #my user agent\n",
    "    Chrome_driver = 'Chrome/114.0.5735.90 Safari/537.36'\n",
    "    header = {'User-Agent':'Mozilla/5.0 (Windows NT 10.0; Win64; x64) AppleWebKit/537.36 (KHTML, like Gecko) ' + Chrome_driver}\n",
    "    response = requests.get(url, headers = header)\n",
    "    \n",
    "    if response.status_code == 200:\n",
    "        return response.text\n",
    "    else:\n",
    "        return None"
   ]
  },
  {
   "cell_type": "code",
   "execution_count": 3,
   "id": "9b3381c0",
   "metadata": {},
   "outputs": [],
   "source": [
    "def parse_data(html):\n",
    "    soup = BeautifulSoup(html, 'html.parser')\n",
    "    \n",
    "    title = soup.find('h1', {'class': 'D(ib) Fz(18px)'}).text\n",
    "    \n",
    "    price = soup.find('div', {'class': 'D(ib) Mend(20px)'}).find('fin-streamer').text\n",
    "    \n",
    "    return title, price"
   ]
  },
  {
   "cell_type": "markdown",
   "id": "993c49d9",
   "metadata": {},
   "source": [
    "### Basic information"
   ]
  },
  {
   "cell_type": "code",
   "execution_count": 4,
   "id": "dca1ad40",
   "metadata": {},
   "outputs": [],
   "source": [
    "def basic_inf(symbol):\n",
    "    \n",
    "    #Get url\n",
    "    url = 'https://finance.yahoo.com/quote/' + symbol\n",
    "    print(url)\n",
    "    \n",
    "    #Get html\n",
    "    html = get_html(url)\n",
    "    \n",
    "    title, price = parse_data(html)\n",
    "    print('Title: ' + title)\n",
    "    print('Price: ' + price)"
   ]
  },
  {
   "cell_type": "markdown",
   "id": "e3e443fe",
   "metadata": {},
   "source": [
    "### Price"
   ]
  },
  {
   "cell_type": "code",
   "execution_count": 5,
   "id": "664815c3",
   "metadata": {},
   "outputs": [],
   "source": [
    "def stock_price(symbol):\n",
    "    #Get url\n",
    "    url = 'https://finance.yahoo.com/quote/' + symbol\n",
    "    \n",
    "    #Get html\n",
    "    html = get_html(url)\n",
    "    \n",
    "    title, price = parse_data(html)\n",
    "    s_price = price\n",
    "    return float(s_price.replace(',', ''))"
   ]
  },
  {
   "cell_type": "markdown",
   "id": "2fe527c8",
   "metadata": {},
   "source": [
    "### Financial Statements"
   ]
  },
  {
   "cell_type": "code",
   "execution_count": 6,
   "id": "c0f3703b",
   "metadata": {},
   "outputs": [],
   "source": [
    "def Financial_Statements(ticker, statement, anual_quarterly):\n",
    "\n",
    "    chrome_path = Service(r\"C:\\Users\\hybri\\Downloads\\chromedriver_win32\\chromedriver.exe\")\n",
    "    driver = webdriver.Chrome(service = chrome_path, options = webdriver.ChromeOptions())\n",
    "    \n",
    "    if(statement == 'balance sheet'):\n",
    "        url = 'https://finance.yahoo.com/quote/' + ticker + '/balance-sheet?p=' + ticker\n",
    "    elif(statement == 'income statement'):\n",
    "        url = 'https://finance.yahoo.com/quote/' + ticker + '/financials?p=' + ticker\n",
    "    elif(statement == 'cash flow'):\n",
    "        url = 'https://finance.yahoo.com/quote/' + ticker +  '/cash-flow?p=' + ticker\n",
    "    else:\n",
    "        None\n",
    "    driver.get(url)\n",
    "    driver.implicitly_wait(5)\n",
    "\n",
    "    \n",
    "    if(anual_quarterly == 'quarterly'):\n",
    "        #clicking \"Expand All\"\n",
    "        btnclick0 = driver.find_elements(By.XPATH, \"//section[@data-test='qsp-financial']//span[text()='Quarterly']\")\n",
    "        btnclick0[0].click()\n",
    "        time.sleep(0.5)\n",
    "        btnclick = driver.find_elements(By.XPATH, \"//*[@id='Col1-1-Financials-Proxy']/section/div[2]/button\")\n",
    "        btnclick[0].click()\n",
    "        time.sleep(0.5)\n",
    "    elif(anual_quarterly == 'anual'):\n",
    "        #clicking \"Expand All\"\n",
    "        btnclick = driver.find_elements(By.XPATH, \"//*[@id='Col1-1-Financials-Proxy']/section/div[2]/button\")\n",
    "        btnclick[0].click()\n",
    "    else:\n",
    "        None\n",
    "\n",
    "    #parsing into lxml\n",
    "    tree = html.fromstring(driver.page_source)\n",
    "\n",
    "    #searching table financial data\n",
    "    table_rows = tree.xpath(\"//div[contains(@class, 'D(tbr)')]\")\n",
    "\n",
    "    # Ensure that some table rows are found\n",
    "    assert len(table_rows) > 0\n",
    "\n",
    "    parsed_rows = []\n",
    "\n",
    "    for table_row in table_rows:\n",
    "        parsed_row = []\n",
    "        el = table_row.xpath(\"./div\")\n",
    "\n",
    "        none_count = 0\n",
    "\n",
    "        for rs in el:\n",
    "            try:\n",
    "                (text,) = rs.xpath('.//span/text()[1]')\n",
    "                parsed_row.append(text)\n",
    "            except ValueError:\n",
    "                parsed_row.append(np.NaN)\n",
    "                none_count += 1\n",
    "\n",
    "        if (none_count < 4):\n",
    "            parsed_rows.append(parsed_row)\n",
    "\n",
    "    return parsed_rows"
   ]
  },
  {
   "cell_type": "code",
   "execution_count": 7,
   "id": "502edfda",
   "metadata": {},
   "outputs": [],
   "source": [
    "def Financial_Statements_2(ticker, statement, anual_quarterly):\n",
    "    \n",
    "    F_S = Financial_Statements(ticker , statement, anual_quarterly)\n",
    "    \n",
    "    all_rows = []\n",
    "    \n",
    "    for k in range(len(F_S)):\n",
    "        new_row = []\n",
    "        new_row.append(F_S[k][0])\n",
    "        \n",
    "        for i in range(len(F_S[k][:]) - 1, 0, -1):\n",
    "            new_row.append(F_S[k][i])\n",
    "            \n",
    "        all_rows.append(new_row)\n",
    "\n",
    "    return all_rows"
   ]
  }
 ],
 "metadata": {
  "kernelspec": {
   "display_name": "Python 3",
   "language": "python",
   "name": "python3"
  },
  "language_info": {
   "codemirror_mode": {
    "name": "ipython",
    "version": 3
   },
   "file_extension": ".py",
   "mimetype": "text/x-python",
   "name": "python",
   "nbconvert_exporter": "python",
   "pygments_lexer": "ipython3",
   "version": "3.8.8"
  }
 },
 "nbformat": 4,
 "nbformat_minor": 5
}
