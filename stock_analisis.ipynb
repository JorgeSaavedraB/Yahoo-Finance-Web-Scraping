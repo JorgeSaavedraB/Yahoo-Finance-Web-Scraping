{
 "cells": [
  {
   "cell_type": "code",
   "execution_count": 1,
   "id": "bc3421a5",
   "metadata": {},
   "outputs": [],
   "source": [
    "import pandas as pd\n",
    "import numpy as np\n",
    "\n",
    "import time\n",
    "import datetime\n",
    "\n",
    "from web_scraping_yahoo_finance import basic_inf\n",
    "from web_scraping_yahoo_finance import stock_price\n",
    "from web_scraping_yahoo_finance import Financial_Statements\n",
    "from web_scraping_yahoo_finance import Financial_Statements_2\n",
    "\n",
    "import matplotlib.pyplot as plt\n",
    "\n",
    "from selenium.webdriver.chrome.service import Service\n",
    "from selenium import webdriver"
   ]
  },
  {
   "cell_type": "code",
   "execution_count": 2,
   "id": "cbdddf5d",
   "metadata": {},
   "outputs": [],
   "source": [
    "def find(F_S, word):\n",
    "    for i in range(len(F_S)):\n",
    "        \n",
    "        if(F_S[i][0] == word):\n",
    "            j = i\n",
    "            break\n",
    "            \n",
    "        else:\n",
    "            None\n",
    "            \n",
    "    return j"
   ]
  },
  {
   "cell_type": "code",
   "execution_count": 3,
   "id": "d0e2655b",
   "metadata": {},
   "outputs": [],
   "source": [
    "def plot_bars(F_S, name_data, y_label):\n",
    "    y = []\n",
    "    for elmts in F_S[1][:]:\n",
    "        y.append(float(elmts))\n",
    "\n",
    "    DF = pd.DataFrame({'dates': F_S[0][:], name_data : y})\n",
    "\n",
    "    DF.plot(x = 'dates', y = name_data, kind = 'bar', grid = True, legend = True, use_index = True, xlabel = '', ylabel = y_label)"
   ]
  },
  {
   "cell_type": "markdown",
   "id": "f0f5d5d8",
   "metadata": {},
   "source": [
    "### Financial Statements"
   ]
  },
  {
   "cell_type": "code",
   "execution_count": 4,
   "id": "9b4b08c3",
   "metadata": {},
   "outputs": [],
   "source": [
    "def All_Financial_Statements(ticker):\n",
    "    C_F_A = Financial_Statements_2(ticker, 'cash flow', 'anual')\n",
    "    df = pd.DataFrame(C_F_A)\n",
    "   \n",
    "    C_F_Q = Financial_Statements_2(ticker, 'cash flow', 'quarterly')\n",
    "    df = pd.DataFrame(C_F_Q)\n",
    " \n",
    "    B_S_A = Financial_Statements_2(ticker, 'balance sheet', 'anual')\n",
    "    df = pd.DataFrame(B_S_A)\n",
    "\n",
    "    B_S_Q = Financial_Statements_2(ticker, 'balance sheet', 'quarterly')\n",
    "    df = pd.DataFrame(B_S_Q)\n",
    "\n",
    "    I_S_A = Financial_Statements_2(ticker, 'income statement', 'anual')\n",
    "    df = pd.DataFrame(I_S_A)\n",
    "\n",
    "    I_S_Q = Financial_Statements_2(ticker, 'income statement', 'quarterly')\n",
    "    df = pd.DataFrame(I_S_Q)\n",
    "\n",
    "    return(C_F_A, C_F_Q, B_S_A, B_S_Q, I_S_A, I_S_Q)"
   ]
  },
  {
   "cell_type": "markdown",
   "id": "106a8147",
   "metadata": {},
   "source": [
    "### Number of shares"
   ]
  },
  {
   "cell_type": "code",
   "execution_count": 7,
   "id": "57196f5e",
   "metadata": {},
   "outputs": [],
   "source": [
    "def Num_Shares_A(I_S_A, B_S_A):\n",
    "    F_S = I_S_A\n",
    "    \n",
    "    F_S0 = B_S_A\n",
    "    \n",
    "    k = find(F_S, 'Diluted Average Shares')\n",
    "    \n",
    "    z = find(F_S0, 'Ordinary Shares Number')\n",
    "    \n",
    "    total_S = [F_S[0][1: len(F_S[0]) - 1]]\n",
    "    num_shares = []\n",
    "    \n",
    "    for l in range(1, len(F_S[0][:]) - 1):\n",
    "        \n",
    "        # Due sometimes the Ordinary Shares Number is not in the Income Statement\n",
    "        if(pd.isna(F_S[k][l]) == True):\n",
    "            print('*')\n",
    "            n_shares = F_S0[z][l]\n",
    "            \n",
    "        else:\n",
    "            n_shares = F_S[k][l]\n",
    "        \n",
    "        n_shares = (n_shares).replace(',', '')\n",
    "        num_shares.append(n_shares)\n",
    "        \n",
    "    total_S.append(num_shares)\n",
    "\n",
    "    return(total_S)"
   ]
  },
  {
   "cell_type": "markdown",
   "id": "a1f838de",
   "metadata": {},
   "source": [
    "### EPS"
   ]
  },
  {
   "cell_type": "code",
   "execution_count": 9,
   "id": "7f1964e7",
   "metadata": {},
   "outputs": [],
   "source": [
    "def EPS_Q(ticker, I_S_Q, B_S_Q):\n",
    "    F_S = I_S_Q\n",
    "    \n",
    "    F_S0 = B_S_Q\n",
    "    \n",
    "    j = find(F_S, 'Net Income Common Stockholders')\n",
    "    \n",
    "    k = find(F_S, 'Diluted Average Shares')\n",
    "    \n",
    "    z = find(F_S0, 'Ordinary Shares Number')\n",
    "    \n",
    "    T_EPS = 0\n",
    "    All_EPS = []\n",
    "    \n",
    "    for l in range(1, len(F_S[0][:]) - 1):\n",
    "        n_shares = 0\n",
    "        \n",
    "        # Due sometimes the Ordinary Shares Number is not in the Income Statement\n",
    "        if(pd.isna(F_S[k][l]) == True):\n",
    "            print('*')\n",
    "            n_shares = F_S0[z][l]\n",
    "            \n",
    "        else:\n",
    "            n_shares = F_S[k][l]\n",
    "            \n",
    "        EPS = float((F_S[j][l]).replace(',', '')) / float((n_shares).replace(',', ''))\n",
    "        EPS = round(EPS, 2)\n",
    "        All_EPS.append(EPS)\n",
    "        T_EPS = T_EPS + EPS\n",
    "    \n",
    "    t_info = [F_S[0][1:len(F_S[0][:]) - 1]]\n",
    "    t_info.append(All_EPS)\n",
    "    \n",
    "    return(t_info)"
   ]
  },
  {
   "cell_type": "code",
   "execution_count": 11,
   "id": "683f296e",
   "metadata": {},
   "outputs": [],
   "source": [
    "def EPS_A(ticker, I_S_A, B_S_A):\n",
    "    F_S = I_S_A\n",
    "    \n",
    "    F_S0 = B_S_A\n",
    "    \n",
    "    j = find(F_S, 'Net Income Common Stockholders')\n",
    "    \n",
    "    k = find(F_S, 'Diluted Average Shares')\n",
    "    \n",
    "    z = find(F_S0, 'Ordinary Shares Number')\n",
    "    \n",
    "    T_EPS = 0\n",
    "    All_EPS = []\n",
    "    \n",
    "    for l in range(1, len(F_S[0][:]) - 1):\n",
    "        n_shares = 0\n",
    "        \n",
    "        # Due sometimes the Ordinary Shares Number is not in the Income Statement\n",
    "        if(pd.isna(F_S[k][l]) == True):\n",
    "            print('*')\n",
    "            n_shares = F_S0[z][l]\n",
    "            \n",
    "        else:\n",
    "            n_shares = F_S[k][l]\n",
    "            \n",
    "        EPS = float((F_S[j][l]).replace(',', '')) / float((n_shares).replace(',', ''))\n",
    "        EPS = round(EPS, 2)\n",
    "        All_EPS.append(EPS)\n",
    "        T_EPS = T_EPS + EPS\n",
    "    \n",
    "    t_info = [F_S[0][1:len(F_S[0][:]) - 1]]\n",
    "    t_info.append(All_EPS)\n",
    "    \n",
    "    return(t_info)"
   ]
  },
  {
   "cell_type": "markdown",
   "id": "b2d1d9ae",
   "metadata": {},
   "source": [
    "### Historical prices (end year)"
   ]
  },
  {
   "cell_type": "code",
   "execution_count": 13,
   "id": "2654af6f",
   "metadata": {},
   "outputs": [],
   "source": [
    "def Historical_prices_EY(ticker, I_S_A, B_S_A):\n",
    "    close_prices = []\n",
    "    \n",
    "    for EPS in EPS_A(ticker, I_S_A, B_S_A)[0]:\n",
    "        date_A = datetime.datetime.strptime(EPS, '%m/%d/%Y')    \n",
    "        \n",
    "        if(date_A.weekday() == 6):\n",
    "            period1 = int(time.mktime(datetime.datetime(date_A.year, date_A.month, date_A.day-2).timetuple()))\n",
    "            print(date_A.year, date_A.month, date_A.day-2)\n",
    "        elif(date_A.weekday() == 5):\n",
    "            period1 = int(time.mktime(datetime.datetime(date_A.year, date_A.month, date_A.day-1).timetuple()))\n",
    "            print(date_A.year, date_A.month, date_A.day-1)\n",
    "        else:\n",
    "            period1 = int(time.mktime(datetime.datetime(date_A.year, date_A.month, date_A.day).timetuple()))\n",
    "        \n",
    "        \n",
    "        period2 = int(time.mktime(datetime.datetime(date_A.year + 1, 1, 1).timetuple()))\n",
    "\n",
    "        interval = '1d'\n",
    "        query_string = f'https://query1.finance.yahoo.com/v7/finance/download/{ticker}?period1={period1}&period2={period2}&interval={interval}&events=history&includeAdjustedClose=true'\n",
    "        df = pd.read_csv(query_string)\n",
    "        \n",
    "        close_prices.append(round(np.array(df['Close'][0: 3])[0], 3))\n",
    "    historical_anual_prices = EPS_A(ticker, I_S_A, B_S_A)\n",
    "    historical_anual_prices.append(close_prices)\n",
    "    \n",
    "    return(historical_anual_prices)"
   ]
  },
  {
   "cell_type": "markdown",
   "id": "4126a4fa",
   "metadata": {},
   "source": [
    "### Dividents"
   ]
  },
  {
   "cell_type": "code",
   "execution_count": 15,
   "id": "b6c3fb5a",
   "metadata": {},
   "outputs": [],
   "source": [
    "def Historical_Dividends(ticker, I_S_A, B_S_A):\n",
    "    T_dividends = []\n",
    "    \n",
    "    for l in EPS_A(ticker, I_S_A, B_S_A)[0]:\n",
    "        chrome_path = Service(r\"C:\\Users\\hybri\\Downloads\\chromedriver_win32\\chromedriver.exe\")\n",
    "        driver = webdriver.Chrome(service = chrome_path, options = webdriver.ChromeOptions())\n",
    "\n",
    "        date_A = datetime.datetime.strptime(l, '%m/%d/%Y')\n",
    "        period1 = int(time.mktime(datetime.datetime(date_A.year, 1, 1).timetuple()))\n",
    "        period2 = int(time.mktime(datetime.datetime(date_A.year + 1, 1, 1).timetuple()))\n",
    "\n",
    "        query_string = f'https://finance.yahoo.com/quote/{ticker}/history?period1={period1}&period2={period2}&interval=capitalGain%7Cdiv%7Csplit&filter=div&frequency=1mo&includeAdjustedClose=true'\n",
    "        driver.get(query_string)\n",
    "        driver.implicitly_wait(5)\n",
    "\n",
    "        dfs_quarter = pd.read_html(driver.page_source)\n",
    "        driver.close()\n",
    "\n",
    "        dfs_quarter = np.array(dfs_quarter)\n",
    "\n",
    "        if(len(dfs_quarter[0]) > 1):\n",
    "            dividends = dfs_quarter[0][0: len(dfs_quarter[0]) -1]\n",
    "\n",
    "            Total_dividends = 0\n",
    "            for k in range(len(dividends)):\n",
    "                dividends[k][1] = dividends[k][1].replace(' Dividend', '')\n",
    "                print(dividends[k][0:2])\n",
    "                if(dividends[k][1] == 'Nos' or dividends[k][1] == 'No Dividends'):\n",
    "                    dividends[k][0:2] = '0'\n",
    "                Total_dividends = Total_dividends + float(dividends[k][1])\n",
    "                Total_dividends = round(Total_dividends, 3)\n",
    "\n",
    "        else:\n",
    "            Total_dividends = 0\n",
    "\n",
    "        T_dividends.append(Total_dividends)\n",
    "\n",
    "    Anual_dividends = [EPS_A(ticker, I_S_A, B_S_A)[0]]\n",
    "    Anual_dividends.append(T_dividends)\n",
    "    \n",
    "    return(Anual_dividends)"
   ]
  },
  {
   "cell_type": "markdown",
   "id": "258b9d07",
   "metadata": {},
   "source": [
    "### PER (Trailing)"
   ]
  },
  {
   "cell_type": "markdown",
   "id": "5a41749a",
   "metadata": {},
   "source": [
    "### $PER = \\frac{Current Share Price}{Trailing 12-Month EPS}$"
   ]
  },
  {
   "cell_type": "code",
   "execution_count": 18,
   "id": "aa29b62b",
   "metadata": {},
   "outputs": [],
   "source": [
    "def PER(ticker, I_S_Q, B_S_Q):\n",
    "    TTM_EPS=0\n",
    "    \n",
    "    for EPS in EPS_Q(ticker, I_S_Q, B_S_Q)[1]:\n",
    "        TTM_EPS = TTM_EPS + EPS\n",
    "\n",
    "    PER = stock_price(ticker) / TTM_EPS\n",
    "    PER = round(PER, 2)\n",
    "    \n",
    "    return PER"
   ]
  },
  {
   "cell_type": "markdown",
   "id": "e6f8c324",
   "metadata": {},
   "source": [
    "### ANUAL PER"
   ]
  },
  {
   "cell_type": "code",
   "execution_count": 20,
   "id": "9d94ce64",
   "metadata": {},
   "outputs": [],
   "source": [
    "def ANUAL_PER(ticker, I_S_A, B_S_A):\n",
    "    Historical_prices_end_year = Historical_prices_EY(ticker, I_S_A, B_S_A)\n",
    "    a_PER = []\n",
    "    \n",
    "    for k in range(0, len(Historical_prices_end_year[0])):\n",
    "        A_PER =  float(Historical_prices_end_year[2][k]) / float(Historical_prices_end_year[1][k])\n",
    "        A_PER = round(A_PER, 3)\n",
    "        a_PER.append(A_PER)\n",
    "    \n",
    "    anual_PER = [Historical_prices_end_year[0]]\n",
    "    anual_PER.append(a_PER)\n",
    "    \n",
    "    return(anual_PER)"
   ]
  },
  {
   "cell_type": "markdown",
   "id": "447dea17",
   "metadata": {},
   "source": [
    "### Average PER"
   ]
  },
  {
   "cell_type": "code",
   "execution_count": 22,
   "id": "0be2459e",
   "metadata": {},
   "outputs": [],
   "source": [
    "def AVERAGE_PER(ticker, I_S_A, B_S_A):\n",
    "    anual_per = ANUAL_PER(ticker, I_S_A, B_S_A)[1]\n",
    "    sum_PER = 0\n",
    "    \n",
    "    for k in anual_per:\n",
    "        sum_PER = float(sum_PER) + k\n",
    "    average_PER = sum_PER/len(anual_per)\n",
    "    average_PER = round(average_PER, 3)\n",
    "    \n",
    "    return(average_PER)"
   ]
  },
  {
   "cell_type": "markdown",
   "id": "720145af",
   "metadata": {},
   "source": [
    "### Price to Book (MRQ)"
   ]
  },
  {
   "cell_type": "markdown",
   "id": "e280cc64",
   "metadata": {},
   "source": [
    "### $PB(MRQ) = \\frac{Market Price Per Share}{Book Value Per Share (Most Recent Quarter)}$"
   ]
  },
  {
   "cell_type": "code",
   "execution_count": 1,
   "id": "03d755bf",
   "metadata": {},
   "outputs": [],
   "source": [
    "def Price_Book_MRQ(ticker, B_S_Q):\n",
    "    F_S = B_S_Q\n",
    "    j = find(F_S, 'Common Stock Equity')\n",
    "            \n",
    "    k = find(F_S, 'Ordinary Shares Number')\n",
    "            \n",
    "    P = stock_price(ticker)\n",
    "\n",
    "    C_S_equity = float(str(F_S[j][len(F_S[0][:]) - 1]).replace(',', ''))\n",
    "    O_S_number = float(str(F_S[k][len(F_S[0][:]) - 1]).replace(',', ''))\n",
    "    B_V = C_S_equity / O_S_number\n",
    "    P_B = P / B_V\n",
    "    P_B = round(P_B, 2)\n",
    "    \n",
    "    return(P_B)"
   ]
  },
  {
   "cell_type": "markdown",
   "id": "2f5353bf",
   "metadata": {},
   "source": [
    "### Debt to Equity (D/E)"
   ]
  },
  {
   "cell_type": "markdown",
   "id": "71173e8b",
   "metadata": {},
   "source": [
    "### $DE = \\frac{Total Liabilities}{Total Shareholders' Equity}$"
   ]
  },
  {
   "cell_type": "code",
   "execution_count": null,
   "id": "3d033ed8",
   "metadata": {},
   "outputs": [],
   "source": [
    "def DE_Q(ticker, B_S_Q):\n",
    "    F_S = B_S_Q\n",
    "    \n",
    "    j = find(F_S, 'Total Liabilities Net Minority Interest')\n",
    "    \n",
    "    k = find(F_S, 'Common Stock Equity')\n",
    "    \n",
    "    All_D_E_Q = []\n",
    "    \n",
    "    for l in range(1, len(F_S[0][:])):\n",
    "        D_E_Q = float((F_S[j][l]).replace(',', '')) / float((F_S[k][l]).replace(',', ''))\n",
    "        D_E_Q = round(D_E_Q, 2)\n",
    "        All_D_E_Q.append(D_E_Q)\n",
    "        \n",
    "    t_info = [F_S[0][1:len(F_S[0][:])]]\n",
    "    t_info.append(All_D_E_Q)\n",
    "    \n",
    "    return(t_info)"
   ]
  },
  {
   "cell_type": "code",
   "execution_count": null,
   "id": "d2074130",
   "metadata": {},
   "outputs": [],
   "source": [
    "def DE_A(ticker, B_S_A):\n",
    "    F_S = B_S_A\n",
    "    \n",
    "    j = find(F_S, 'Total Liabilities Net Minority Interest')\n",
    "    \n",
    "    k = find(F_S, 'Common Stock Equity')\n",
    "    \n",
    "    All_D_E_Q = []\n",
    "    \n",
    "    for l in range(1, len(F_S[0][:])):\n",
    "        D_E_Q = float((F_S[j][l]).replace(',', '')) / float((F_S[k][l]).replace(',', ''))\n",
    "        D_E_Q = round(D_E_Q, 2)\n",
    "        All_D_E_Q.append(D_E_Q)\n",
    "        \n",
    "    t_info = [F_S[0][1:len(F_S[0][:])]]\n",
    "    t_info.append(All_D_E_Q)\n",
    "    \n",
    "    #print('DE(Anual):')\n",
    "    return(t_info)"
   ]
  },
  {
   "cell_type": "markdown",
   "id": "5b580b20",
   "metadata": {},
   "source": [
    "### ROE"
   ]
  },
  {
   "cell_type": "markdown",
   "id": "937bd612",
   "metadata": {},
   "source": [
    "### $ROE = \\frac{Net Income}{Average Shareholders' Equity}$"
   ]
  },
  {
   "cell_type": "code",
   "execution_count": null,
   "id": "06c614b6",
   "metadata": {},
   "outputs": [],
   "source": [
    "def ROE(ticker, I_S_A, B_S_A):\n",
    "    tckr = ticker\n",
    "    F_S = I_S_A\n",
    "    F_S1 = B_S_A\n",
    "    \n",
    "    j = find(F_S, 'Net Income Common Stockholders')\n",
    "    k = find(F_S1, 'Common Stock Equity')\n",
    "    \n",
    "    y = []\n",
    "    \n",
    "    for l in range(1, len(F_S1[0][:])):\n",
    "        ROE = float((F_S[j][l]).replace(',', '')) / float((F_S1[k][l]).replace(',', ''))\n",
    "        ROE = round(ROE*100, 2)\n",
    "        y.append(ROE)\n",
    "        \n",
    "    t_info = [F_S[0][1:len(F_S1[0][:])]]\n",
    "    t_info.append(y)\n",
    "    \n",
    "    return(t_info)"
   ]
  },
  {
   "cell_type": "markdown",
   "id": "39b03070",
   "metadata": {},
   "source": [
    "### Average ROE"
   ]
  },
  {
   "cell_type": "code",
   "execution_count": null,
   "id": "f29e0bf1",
   "metadata": {},
   "outputs": [],
   "source": [
    "def Average_ROE(ticker, I_S_A, B_S_A):\n",
    "    \n",
    "    Avrg_ROE = 0\n",
    "    ROE_ = ROE(ticker, I_S_A, B_S_A)\n",
    "    \n",
    "    for k in ROE_[1]:\n",
    "        Avrg_ROE = Avrg_ROE + (k / 100)\n",
    "    \n",
    "    Avrg_ROE = round(Avrg_ROE / len(ROE_[1]), 3)\n",
    "    \n",
    "    return(Avrg_ROE)"
   ]
  },
  {
   "cell_type": "markdown",
   "id": "c260badd",
   "metadata": {},
   "source": [
    "### Common Stock Equity"
   ]
  },
  {
   "cell_type": "code",
   "execution_count": null,
   "id": "9de9349b",
   "metadata": {},
   "outputs": [],
   "source": [
    "def CSE(ticker, B_S_A):\n",
    "    F_S = B_S_A\n",
    "    \n",
    "    j = find(F_S, 'Common Stock Equity')\n",
    "    Common_SE = []\n",
    "    \n",
    "    for k in range(1, len(F_S[j][:])):\n",
    "        Common_SE.append(float(F_S[j][k].replace(',', '')))\n",
    "    All_CSE = [F_S[0][1:len(F_S[0][:])]]\n",
    "    All_CSE.append(Common_SE)\n",
    "    \n",
    "    return(All_CSE)"
   ]
  },
  {
   "cell_type": "code",
   "execution_count": null,
   "id": "7a8f7a79",
   "metadata": {},
   "outputs": [],
   "source": [
    "def Growth_CSE(ticker, B_S_A):\n",
    "    cse = CSE(ticker, B_S_A)[1][:]\n",
    "    x = np.arange(0, len(cse))\n",
    "    y = cse\n",
    "\n",
    "    from sklearn.linear_model import LinearRegression \n",
    "    regresion_lineal = LinearRegression() \n",
    "    regresion_lineal.fit(x.reshape(-1,1), y) \n",
    "    m = regresion_lineal.coef_\n",
    "    m = m[0]\n",
    "    m = round(m,3)\n",
    "    b = regresion_lineal.intercept_\n",
    "    \n",
    "    return(m)"
   ]
  },
  {
   "cell_type": "markdown",
   "id": "d91b557d",
   "metadata": {},
   "source": [
    "### Common Stock Equity per Share"
   ]
  },
  {
   "cell_type": "code",
   "execution_count": null,
   "id": "656cfea8",
   "metadata": {},
   "outputs": [],
   "source": [
    "def CSEpS(ticker, I_S_A, B_S_A): \n",
    "    CSE_PS = []\n",
    "    \n",
    "    for k in range(len(Num_Shares_A(I_S_A, B_S_A)[1][:])):\n",
    "        \n",
    "        cseps = CSE(ticker, B_S_A)[1][k] / float(Num_Shares_A(I_S_A, B_S_A)[1][k])\n",
    "        \n",
    "        cseps = round(cseps, 3)\n",
    "        CSE_PS.append(cseps)\n",
    "    all_CSE_PS = [CSE(ticker, B_S_A)[0]]\n",
    "    all_CSE_PS.append(CSE_PS)\n",
    "    return(all_CSE_PS)"
   ]
  },
  {
   "cell_type": "markdown",
   "id": "3d371df2",
   "metadata": {},
   "source": [
    "### Average Payout Ratio"
   ]
  },
  {
   "cell_type": "code",
   "execution_count": null,
   "id": "bcc13f4f",
   "metadata": {},
   "outputs": [],
   "source": [
    "def Average_Payout_Ratio(ticker, I_S_A, B_S_A):\n",
    "    EarnigsPS_A = EPS_A(ticker, I_S_A, B_S_A)\n",
    "    Hist_Div = Historical_Dividends(ticker, I_S_A, B_S_A)\n",
    "    \n",
    "    Average_PR = 0\n",
    "    \n",
    "    for k in range(0,len(EarnigsPS_A[1])):\n",
    "        P_R = Hist_Div[1][k] / EarnigsPS_A[1][k]\n",
    "        Average_PR = Average_PR + P_R\n",
    "\n",
    "    Average_PR = Average_PR / len(EarnigsPS_A[1])\n",
    "    Average_PR = round(Average_PR, 3)\n",
    "    \n",
    "    return(Average_PR)"
   ]
  },
  {
   "cell_type": "markdown",
   "id": "707bb307",
   "metadata": {},
   "source": [
    "### Extra"
   ]
  },
  {
   "cell_type": "code",
   "execution_count": null,
   "id": "6d59554e",
   "metadata": {
    "scrolled": false
   },
   "outputs": [],
   "source": [
    "def Stock_Analisis(tickers):\n",
    "    P_B = []\n",
    "    P_E_R = []\n",
    "    A_P_E_R = []\n",
    "    R_O_E = []\n",
    "    D_E = []\n",
    "    G_R = []\n",
    "\n",
    "    for tckr in tickers:\n",
    "        score_total = 0\n",
    "\n",
    "        C_F_A, C_F_Q, B_S_A, B_S_Q, I_S_A, I_S_Q = All_Financial_Statements(tckr)\n",
    "\n",
    "        print(tckr + ':')\n",
    "        basic_inf(tckr)\n",
    "        \n",
    "        \n",
    "        #CSE\n",
    "        c_s_e = CSE(tckr, B_S_A)\n",
    "        g_CSE = Growth_CSE(tckr, B_S_A)\n",
    "        print('CSE:')\n",
    "        display(pd.DataFrame(c_s_e))\n",
    "        plot_bars(c_s_e, 'Common Stock Equity', '')\n",
    "\n",
    "        \n",
    "        #PB\n",
    "        Price_Book = Price_Book_MRQ(tckr, B_S_Q)\n",
    "        P_B.append(Price_Book)\n",
    "        print('Price to Book', Price_Book)\n",
    "\n",
    "        \n",
    "        #PER\n",
    "        Per = PER(tckr, I_S_Q, B_S_Q)\n",
    "        A_Per = AVERAGE_PER(tckr, I_S_A, B_S_A)\n",
    "        print('PER:', Per)\n",
    "        P_E_R.append(Per)\n",
    "        print('Average PER: ', A_Per)\n",
    "        A_P_E_R.append(A_Per)\n",
    "\n",
    "        \n",
    "        #ROE\n",
    "        print('ROE:')\n",
    "        display(pd.DataFrame(ROE(tckr, I_S_A, B_S_A)))\n",
    "        \n",
    "        Avrg_ROE = Average_ROE(tckr, I_S_A, B_S_A)\n",
    "        R_O_E.append(Avrg_ROE)\n",
    "        print('Average ROE:', Avrg_ROE * 100, '%')\n",
    "\n",
    "        \n",
    "        #DE\n",
    "        Debt_to_Equity = DE_Q(tckr, B_S_Q)[1][len(DE_Q(tckr, B_S_Q)[1]) - 1]\n",
    "        D_E.append(Debt_to_Equity)\n",
    "        y = []\n",
    "        for elmts in DE_Q(tckr, B_S_Q)[1][:]:\n",
    "            y.append(float(elmts))\n",
    "\n",
    "        DF = pd.DataFrame({'dates': DE_Q(tckr, B_S_Q)[0][:], 'DE_Q': y})\n",
    "\n",
    "        DF.plot(x = 'dates', y = 'DE_Q', kind = 'bar', grid = True, legend = True, use_index = True, xlabel = '')\n",
    "\n",
    "        print('Debt to Equity (MRQ):', Debt_to_Equity)\n",
    "\n",
    "        \n",
    "        #Dividends\n",
    "        dividends = Historical_Dividends(tckr, I_S_A, B_S_A)\n",
    "        print('Dividends:')\n",
    "        display(pd.DataFrame(dividends))\n",
    "        \n",
    "        plot_bars(dividends, 'Dividends', '')\n",
    "     \n",
    "    \n",
    "        print('_ _ _ _ _ _ _ _ _ _ _ _ _ _ _ _ _ _ _ _ _ _ _ _ _ _ _ _ _ _ _ _ _ _ _')\n",
    "        print('')\n",
    "        \n",
    "    #Data Scores\n",
    "    inf_data = {'ticker' : tickers, 'P/B' : P_B ,'PER' : P_E_R, 'ROE' : R_O_E, 'D/E' : D_E}\n",
    "    print(inf_data)\n",
    "    df = pd.DataFrame(data = inf_data) \n",
    "\n",
    "    return(df)"
   ]
  }
 ],
 "metadata": {
  "kernelspec": {
   "display_name": "Python 3",
   "language": "python",
   "name": "python3"
  },
  "language_info": {
   "codemirror_mode": {
    "name": "ipython",
    "version": 3
   },
   "file_extension": ".py",
   "mimetype": "text/x-python",
   "name": "python",
   "nbconvert_exporter": "python",
   "pygments_lexer": "ipython3",
   "version": "3.8.8"
  }
 },
 "nbformat": 4,
 "nbformat_minor": 5
}
